{
 "cells": [
  {
   "cell_type": "markdown",
   "id": "886eb281-139a-4e7f-b2f9-998e51eb5a46",
   "metadata": {},
   "source": [
    "# Notebook pour tester\n",
    "\n",
    "\n",
    "Tadam\n"
   ]
  }
 ],
 "metadata": {
  "kernelspec": {
   "display_name": "Python 3 (ipykernel)",
   "language": "python",
   "name": "python3"
  },
  "language_info": {
   "codemirror_mode": {
    "name": "ipython",
    "version": 3
   },
   "file_extension": ".py",
   "mimetype": "text/x-python",
   "name": "python",
   "nbconvert_exporter": "python",
   "pygments_lexer": "ipython3",
   "version": "3.11.5"
  }
 },
 "nbformat": 4,
 "nbformat_minor": 5
}
